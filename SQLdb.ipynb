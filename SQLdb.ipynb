{
  "nbformat": 4,
  "nbformat_minor": 0,
  "metadata": {
    "colab": {
      "provenance": [],
      "toc_visible": true,
      "authorship_tag": "ABX9TyNu13xwhm1hk5QA6mWsoHgV",
      "include_colab_link": true
    },
    "kernelspec": {
      "name": "python3",
      "display_name": "Python 3"
    },
    "language_info": {
      "name": "python"
    }
  },
  "cells": [
    {
      "cell_type": "markdown",
      "metadata": {
        "id": "view-in-github",
        "colab_type": "text"
      },
      "source": [
        "<a href=\"https://colab.research.google.com/github/gregdilella/pandas/blob/master/SQLdb.ipynb\" target=\"_parent\"><img src=\"https://colab.research.google.com/assets/colab-badge.svg\" alt=\"Open In Colab\"/></a>"
      ]
    },
    {
      "cell_type": "code",
      "execution_count": 3,
      "metadata": {
        "id": "O4lhgOkxZsRP"
      },
      "outputs": [],
      "source": [
        "import yfinance as yf\n",
        "import pandas as pd\n",
        "from sqlalchemy import create_engine\n",
        "from datetime import timedelta"
      ]
    },
    {
      "cell_type": "code",
      "source": [
        "engine = create_engine('sqlite:///intraday_DB.db')"
      ],
      "metadata": {
        "id": "M2-dlTiEZ8xA"
      },
      "execution_count": 4,
      "outputs": []
    },
    {
      "cell_type": "code",
      "source": [
        "df = yf.download('BTC-USD', start=pd.to_datetime('today') - timedelta(7),interval = '1h')"
      ],
      "metadata": {
        "colab": {
          "base_uri": "https://localhost:8080/"
        },
        "id": "H1Ij3DWdZ84z",
        "outputId": "ba54538a-0e4e-453c-fbef-9ba23e2a7fdc"
      },
      "execution_count": 6,
      "outputs": [
        {
          "output_type": "stream",
          "name": "stdout",
          "text": [
            "\r[*********************100%***********************]  1 of 1 completed\n"
          ]
        }
      ]
    },
    {
      "cell_type": "code",
      "source": [
        "df.to_sql('BTCUSD_1h',engine)"
      ],
      "metadata": {
        "colab": {
          "base_uri": "https://localhost:8080/"
        },
        "id": "a0pK4sHKZ87e",
        "outputId": "5eff66aa-a4cf-40ae-eba2-7bb87d25830b"
      },
      "execution_count": 8,
      "outputs": [
        {
          "output_type": "execute_result",
          "data": {
            "text/plain": [
              "169"
            ]
          },
          "metadata": {},
          "execution_count": 8
        }
      ]
    },
    {
      "cell_type": "code",
      "source": [
        "pd.read_sql('SELECT * FROM BTCUSD_1h',engine)"
      ],
      "metadata": {
        "colab": {
          "base_uri": "https://localhost:8080/",
          "height": 424
        },
        "id": "KEfmODI3fDFf",
        "outputId": "14f1abe2-9eef-4fea-b9db-5ec138b74082"
      },
      "execution_count": 9,
      "outputs": [
        {
          "output_type": "execute_result",
          "data": {
            "text/plain": [
              "                       Datetime          Open          High           Low  \\\n",
              "0    2023-04-02 19:00:00.000000  28172.611328  28172.611328  27886.873047   \n",
              "1    2023-04-02 20:00:00.000000  27944.962891  28080.447266  27922.869141   \n",
              "2    2023-04-02 21:00:00.000000  28074.007812  28147.021484  28003.464844   \n",
              "3    2023-04-02 22:00:00.000000  28025.005859  28101.365234  27884.087891   \n",
              "4    2023-04-02 23:00:00.000000  28100.953125  28202.138672  28063.998047   \n",
              "..                          ...           ...           ...           ...   \n",
              "164  2023-04-09 15:00:00.000000  27883.496094  27930.677734  27853.132812   \n",
              "165  2023-04-09 16:00:00.000000  27902.074219  27945.732422  27902.074219   \n",
              "166  2023-04-09 17:00:00.000000  27922.605469  27937.027344  27886.257812   \n",
              "167  2023-04-09 18:00:00.000000  27920.093750  28056.843750  27919.289062   \n",
              "168  2023-04-09 19:00:00.000000  28031.875000  28058.527344  28013.152344   \n",
              "\n",
              "            Close     Adj Close     Volume  \n",
              "0    27937.595703  27937.595703          0  \n",
              "1    28074.886719  28074.886719          0  \n",
              "2    28027.306641  28027.306641  127332352  \n",
              "3    28101.365234  28101.365234  332982272  \n",
              "4    28202.138672  28202.138672  159307776  \n",
              "..            ...           ...        ...  \n",
              "164  27902.568359  27902.568359  105743360  \n",
              "165  27910.025391  27910.025391  110580736  \n",
              "166  27920.884766  27920.884766   86349824  \n",
              "167  28034.439453  28034.439453  176891904  \n",
              "168  28016.214844  28016.214844    1326080  \n",
              "\n",
              "[169 rows x 7 columns]"
            ],
            "text/html": [
              "\n",
              "  <div id=\"df-b03accee-b9de-4fbf-b75e-952ee8694a93\">\n",
              "    <div class=\"colab-df-container\">\n",
              "      <div>\n",
              "<style scoped>\n",
              "    .dataframe tbody tr th:only-of-type {\n",
              "        vertical-align: middle;\n",
              "    }\n",
              "\n",
              "    .dataframe tbody tr th {\n",
              "        vertical-align: top;\n",
              "    }\n",
              "\n",
              "    .dataframe thead th {\n",
              "        text-align: right;\n",
              "    }\n",
              "</style>\n",
              "<table border=\"1\" class=\"dataframe\">\n",
              "  <thead>\n",
              "    <tr style=\"text-align: right;\">\n",
              "      <th></th>\n",
              "      <th>Datetime</th>\n",
              "      <th>Open</th>\n",
              "      <th>High</th>\n",
              "      <th>Low</th>\n",
              "      <th>Close</th>\n",
              "      <th>Adj Close</th>\n",
              "      <th>Volume</th>\n",
              "    </tr>\n",
              "  </thead>\n",
              "  <tbody>\n",
              "    <tr>\n",
              "      <th>0</th>\n",
              "      <td>2023-04-02 19:00:00.000000</td>\n",
              "      <td>28172.611328</td>\n",
              "      <td>28172.611328</td>\n",
              "      <td>27886.873047</td>\n",
              "      <td>27937.595703</td>\n",
              "      <td>27937.595703</td>\n",
              "      <td>0</td>\n",
              "    </tr>\n",
              "    <tr>\n",
              "      <th>1</th>\n",
              "      <td>2023-04-02 20:00:00.000000</td>\n",
              "      <td>27944.962891</td>\n",
              "      <td>28080.447266</td>\n",
              "      <td>27922.869141</td>\n",
              "      <td>28074.886719</td>\n",
              "      <td>28074.886719</td>\n",
              "      <td>0</td>\n",
              "    </tr>\n",
              "    <tr>\n",
              "      <th>2</th>\n",
              "      <td>2023-04-02 21:00:00.000000</td>\n",
              "      <td>28074.007812</td>\n",
              "      <td>28147.021484</td>\n",
              "      <td>28003.464844</td>\n",
              "      <td>28027.306641</td>\n",
              "      <td>28027.306641</td>\n",
              "      <td>127332352</td>\n",
              "    </tr>\n",
              "    <tr>\n",
              "      <th>3</th>\n",
              "      <td>2023-04-02 22:00:00.000000</td>\n",
              "      <td>28025.005859</td>\n",
              "      <td>28101.365234</td>\n",
              "      <td>27884.087891</td>\n",
              "      <td>28101.365234</td>\n",
              "      <td>28101.365234</td>\n",
              "      <td>332982272</td>\n",
              "    </tr>\n",
              "    <tr>\n",
              "      <th>4</th>\n",
              "      <td>2023-04-02 23:00:00.000000</td>\n",
              "      <td>28100.953125</td>\n",
              "      <td>28202.138672</td>\n",
              "      <td>28063.998047</td>\n",
              "      <td>28202.138672</td>\n",
              "      <td>28202.138672</td>\n",
              "      <td>159307776</td>\n",
              "    </tr>\n",
              "    <tr>\n",
              "      <th>...</th>\n",
              "      <td>...</td>\n",
              "      <td>...</td>\n",
              "      <td>...</td>\n",
              "      <td>...</td>\n",
              "      <td>...</td>\n",
              "      <td>...</td>\n",
              "      <td>...</td>\n",
              "    </tr>\n",
              "    <tr>\n",
              "      <th>164</th>\n",
              "      <td>2023-04-09 15:00:00.000000</td>\n",
              "      <td>27883.496094</td>\n",
              "      <td>27930.677734</td>\n",
              "      <td>27853.132812</td>\n",
              "      <td>27902.568359</td>\n",
              "      <td>27902.568359</td>\n",
              "      <td>105743360</td>\n",
              "    </tr>\n",
              "    <tr>\n",
              "      <th>165</th>\n",
              "      <td>2023-04-09 16:00:00.000000</td>\n",
              "      <td>27902.074219</td>\n",
              "      <td>27945.732422</td>\n",
              "      <td>27902.074219</td>\n",
              "      <td>27910.025391</td>\n",
              "      <td>27910.025391</td>\n",
              "      <td>110580736</td>\n",
              "    </tr>\n",
              "    <tr>\n",
              "      <th>166</th>\n",
              "      <td>2023-04-09 17:00:00.000000</td>\n",
              "      <td>27922.605469</td>\n",
              "      <td>27937.027344</td>\n",
              "      <td>27886.257812</td>\n",
              "      <td>27920.884766</td>\n",
              "      <td>27920.884766</td>\n",
              "      <td>86349824</td>\n",
              "    </tr>\n",
              "    <tr>\n",
              "      <th>167</th>\n",
              "      <td>2023-04-09 18:00:00.000000</td>\n",
              "      <td>27920.093750</td>\n",
              "      <td>28056.843750</td>\n",
              "      <td>27919.289062</td>\n",
              "      <td>28034.439453</td>\n",
              "      <td>28034.439453</td>\n",
              "      <td>176891904</td>\n",
              "    </tr>\n",
              "    <tr>\n",
              "      <th>168</th>\n",
              "      <td>2023-04-09 19:00:00.000000</td>\n",
              "      <td>28031.875000</td>\n",
              "      <td>28058.527344</td>\n",
              "      <td>28013.152344</td>\n",
              "      <td>28016.214844</td>\n",
              "      <td>28016.214844</td>\n",
              "      <td>1326080</td>\n",
              "    </tr>\n",
              "  </tbody>\n",
              "</table>\n",
              "<p>169 rows × 7 columns</p>\n",
              "</div>\n",
              "      <button class=\"colab-df-convert\" onclick=\"convertToInteractive('df-b03accee-b9de-4fbf-b75e-952ee8694a93')\"\n",
              "              title=\"Convert this dataframe to an interactive table.\"\n",
              "              style=\"display:none;\">\n",
              "        \n",
              "  <svg xmlns=\"http://www.w3.org/2000/svg\" height=\"24px\"viewBox=\"0 0 24 24\"\n",
              "       width=\"24px\">\n",
              "    <path d=\"M0 0h24v24H0V0z\" fill=\"none\"/>\n",
              "    <path d=\"M18.56 5.44l.94 2.06.94-2.06 2.06-.94-2.06-.94-.94-2.06-.94 2.06-2.06.94zm-11 1L8.5 8.5l.94-2.06 2.06-.94-2.06-.94L8.5 2.5l-.94 2.06-2.06.94zm10 10l.94 2.06.94-2.06 2.06-.94-2.06-.94-.94-2.06-.94 2.06-2.06.94z\"/><path d=\"M17.41 7.96l-1.37-1.37c-.4-.4-.92-.59-1.43-.59-.52 0-1.04.2-1.43.59L10.3 9.45l-7.72 7.72c-.78.78-.78 2.05 0 2.83L4 21.41c.39.39.9.59 1.41.59.51 0 1.02-.2 1.41-.59l7.78-7.78 2.81-2.81c.8-.78.8-2.07 0-2.86zM5.41 20L4 18.59l7.72-7.72 1.47 1.35L5.41 20z\"/>\n",
              "  </svg>\n",
              "      </button>\n",
              "      \n",
              "  <style>\n",
              "    .colab-df-container {\n",
              "      display:flex;\n",
              "      flex-wrap:wrap;\n",
              "      gap: 12px;\n",
              "    }\n",
              "\n",
              "    .colab-df-convert {\n",
              "      background-color: #E8F0FE;\n",
              "      border: none;\n",
              "      border-radius: 50%;\n",
              "      cursor: pointer;\n",
              "      display: none;\n",
              "      fill: #1967D2;\n",
              "      height: 32px;\n",
              "      padding: 0 0 0 0;\n",
              "      width: 32px;\n",
              "    }\n",
              "\n",
              "    .colab-df-convert:hover {\n",
              "      background-color: #E2EBFA;\n",
              "      box-shadow: 0px 1px 2px rgba(60, 64, 67, 0.3), 0px 1px 3px 1px rgba(60, 64, 67, 0.15);\n",
              "      fill: #174EA6;\n",
              "    }\n",
              "\n",
              "    [theme=dark] .colab-df-convert {\n",
              "      background-color: #3B4455;\n",
              "      fill: #D2E3FC;\n",
              "    }\n",
              "\n",
              "    [theme=dark] .colab-df-convert:hover {\n",
              "      background-color: #434B5C;\n",
              "      box-shadow: 0px 1px 3px 1px rgba(0, 0, 0, 0.15);\n",
              "      filter: drop-shadow(0px 1px 2px rgba(0, 0, 0, 0.3));\n",
              "      fill: #FFFFFF;\n",
              "    }\n",
              "  </style>\n",
              "\n",
              "      <script>\n",
              "        const buttonEl =\n",
              "          document.querySelector('#df-b03accee-b9de-4fbf-b75e-952ee8694a93 button.colab-df-convert');\n",
              "        buttonEl.style.display =\n",
              "          google.colab.kernel.accessAllowed ? 'block' : 'none';\n",
              "\n",
              "        async function convertToInteractive(key) {\n",
              "          const element = document.querySelector('#df-b03accee-b9de-4fbf-b75e-952ee8694a93');\n",
              "          const dataTable =\n",
              "            await google.colab.kernel.invokeFunction('convertToInteractive',\n",
              "                                                     [key], {});\n",
              "          if (!dataTable) return;\n",
              "\n",
              "          const docLinkHtml = 'Like what you see? Visit the ' +\n",
              "            '<a target=\"_blank\" href=https://colab.research.google.com/notebooks/data_table.ipynb>data table notebook</a>'\n",
              "            + ' to learn more about interactive tables.';\n",
              "          element.innerHTML = '';\n",
              "          dataTable['output_type'] = 'display_data';\n",
              "          await google.colab.output.renderOutput(dataTable, element);\n",
              "          const docLink = document.createElement('div');\n",
              "          docLink.innerHTML = docLinkHtml;\n",
              "          element.appendChild(docLink);\n",
              "        }\n",
              "      </script>\n",
              "    </div>\n",
              "  </div>\n",
              "  "
            ]
          },
          "metadata": {},
          "execution_count": 9
        }
      ]
    },
    {
      "cell_type": "code",
      "source": [
        "max_date = pd.read_sql('SELECT MAX(Datetime) FROM BTCUSD_1h', engine).values[0][0]"
      ],
      "metadata": {
        "id": "Z0LIH8spfDHw"
      },
      "execution_count": 13,
      "outputs": []
    },
    {
      "cell_type": "code",
      "source": [
        "new_rows = df[df.index > max_date]"
      ],
      "metadata": {
        "id": "G2v4Gcj8fDJx"
      },
      "execution_count": 18,
      "outputs": []
    },
    {
      "cell_type": "code",
      "source": [
        "new_rows.to_sql('BTCUSD_1h', engine , if_exists = 'append')\n",
        "\n"
      ],
      "metadata": {
        "colab": {
          "base_uri": "https://localhost:8080/"
        },
        "id": "Ph0RFx2_fDL7",
        "outputId": "5cb5665f-62a5-4193-85ca-d3d3fc8fcb78"
      },
      "execution_count": 19,
      "outputs": [
        {
          "output_type": "execute_result",
          "data": {
            "text/plain": [
              "0"
            ]
          },
          "metadata": {},
          "execution_count": 19
        }
      ]
    },
    {
      "cell_type": "code",
      "source": [],
      "metadata": {
        "id": "Ca37irGzkcLT"
      },
      "execution_count": null,
      "outputs": []
    },
    {
      "cell_type": "code",
      "source": [],
      "metadata": {
        "id": "NGf7_Sr7kcN3"
      },
      "execution_count": null,
      "outputs": []
    }
  ]
}